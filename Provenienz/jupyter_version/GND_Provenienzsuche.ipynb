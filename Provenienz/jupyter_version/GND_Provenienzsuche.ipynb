{
 "cells": [
  {
   "cell_type": "markdown",
   "metadata": {},
   "source": [
    "## GND-Provenienz-Suche\n",
    "### Überblick\n",
    "Die Suche wird via lobid.org auf die GND durchgeführt. Aus den GND-Datensätzen werden die URLs für die Bildquellen geparst und dann die zugehörigen Bilder aus derzeit zwei Quellen geharvestet: dem GBV-Provenienz-Wiki (https://provenienz.gbv.de/) und der Deutschen Fotothek (https://www.deutschefotothek.de/). Um den Prozess etwas zu beschleunigen, werden alle Bilder verkleinert im Unterordner \"static\" gecacht und bei neuen Suchen daraus geladen. Die Suche nach 1000 Provenienzmerkmalen dauert bei der ersten Abfrage der Bilder ca. 25 Minuten.\n",
    "Derzeit gibt es zwei Abfragemodi: Eine reguläre Suche mit Begriffen sowie eine direkte Abfrage von GND-IDs, die als kommagetrennte Liste in den Suchschlitz kopiert werden können.\n",
    "### Bedienhinweise\n",
    "Der Code dieser Anwendung ist ausgeblendet und hinter `...` versteckt. Sichtbar sind nur die interaktiven Elemente und die Ergebnisse. Sollten unterhalb dieses Textes keine Bedienelemente zu sehen sein, so aktualisieren Sie die Seite im Menü über `Run => Run all Cells`. Sollten Sie aus Versehen den Code sichtbar machen, so können Sie ihn im Menü über `View => Collapse All Code` wieder ausblenden.\n",
    "### Benutzung\n",
    "1. `Suchbegriff`, `Suchmodus` und `Maximale Treffer` wählen. Über lobid.org kann mit `\\~` auch unscharf gesucht werden, z. B. `leipzik\\~ stenpel\\~`. Beim Suchtyp `ID-Liste` kann eine Liste von GND-IDs in den Suchschlitz kopiert werden in der Form `117464012X,1096198665,1273284453,1266422757`. \n",
    "2. Auf das Ergebnis klicken, sodass der blaue Balken dort am linken Rand angezeigt wird (Zelle gewählt). Nun `Umschalt+Enter` drücken.\n",
    "3. Warten. Je nach Umfang der Trefferliste und Stand des Cachings der Bilder kann es einige Sekunden bis viele Minuten dauern, bis die Ergebnisse angezeigt werden.\n"
   ]
  },
  {
   "cell_type": "code",
   "execution_count": 7,
   "metadata": {
    "jupyter": {
     "source_hidden": true
    }
   },
   "outputs": [
    {
     "data": {
      "application/vnd.jupyter.widget-view+json": {
       "model_id": "8b6dc999d09d4d33858b8d1f62d109e8",
       "version_major": 2,
       "version_minor": 0
      },
      "text/plain": [
       "Text(value='Jena Stempel Universität', description='Suchbegriffe/IDs:', placeholder='Type something')"
      ]
     },
     "metadata": {},
     "output_type": "display_data"
    },
    {
     "data": {
      "application/vnd.jupyter.widget-view+json": {
       "model_id": "ef366ee983df4ca983d35e059708946b",
       "version_major": 2,
       "version_minor": 0
      },
      "text/plain": [
       "RadioButtons(description='Suchmodus:', options=('Suche', 'ID-Liste'), value='Suche')"
      ]
     },
     "metadata": {},
     "output_type": "display_data"
    },
    {
     "data": {
      "application/vnd.jupyter.widget-view+json": {
       "model_id": "68cbea2a815a43c19d5086d4aba86617",
       "version_major": 2,
       "version_minor": 0
      },
      "text/plain": [
       "Dropdown(description='Maximale Treffer:', options=(1, 10, 50, 250, 1000), value=1)"
      ]
     },
     "metadata": {},
     "output_type": "display_data"
    }
   ],
   "source": [
    "import requests\n",
    "import json\n",
    "import xml.etree.ElementTree as ET\n",
    "import pandas as pd\n",
    "from PIL import Image\n",
    "from bs4 import BeautifulSoup\n",
    "from io import BytesIO\n",
    "import re\n",
    "import urllib.parse\n",
    "import matplotlib.pyplot as plt\n",
    "import numpy as np\n",
    "from PIL import Image\n",
    "import os\n",
    "from IPython.display import display, HTML, Javascript\n",
    "import ipywidgets as widgets\n",
    "\n",
    "# generate folder static if missing    \n",
    "path = 'static'\n",
    "isExist = os.path.exists(path)\n",
    "if (isExist == False):\n",
    "    os.mkdir('static')\n",
    "\n",
    "# generate arrays if listfiles are missing \n",
    "try:\n",
    "    with open('filelist.json', 'r', errors='ignore') as f:\n",
    "        filelist = json.load(f)\n",
    "except FileNotFoundError:\n",
    "    filelist = []\n",
    "\n",
    "try:\n",
    "    with open('errorlist.json', 'r', errors='ignore') as f:\n",
    "        errorlist = json.load(f)\n",
    "except FileNotFoundError:\n",
    "    errorlist = [\"\"]\n",
    "    \n",
    "# generate input area\n",
    "    \n",
    "searchterm = widgets.Text(\n",
    "    value='Jena Stempel Universität',\n",
    "    placeholder='Type something',\n",
    "    description='Suchbegriffe/IDs:',\n",
    "    disabled=False\n",
    ")\n",
    "display(searchterm)\n",
    "\n",
    "search_type = widgets.RadioButtons(\n",
    "    options=['Suche', 'ID-Liste'],\n",
    "    description='Suchmodus:',\n",
    "    disabled=False\n",
    ")\n",
    "display(search_type)\n",
    "\n",
    "response_size = widgets.Dropdown(\n",
    "    options=[1, 10, 50, 250, 1000],\n",
    "    value=1,\n",
    "    description='Maximale Treffer:',\n",
    "    disabled=False,\n",
    ")\n",
    "display(response_size)"
   ]
  },
  {
   "cell_type": "code",
   "execution_count": 2,
   "metadata": {
    "jupyter": {
     "source_hidden": true
    }
   },
   "outputs": [
    {
     "data": {
      "text/html": [
       "<table border=\"1\" class=\"dataframe\">\n",
       "  <thead>\n",
       "    <tr style=\"text-align: right;\">\n",
       "      <th></th>\n",
       "      <th>gnd_id</th>\n",
       "      <th>gnd_label</th>\n",
       "      <th>image_source</th>\n",
       "      <th>thumbnails</th>\n",
       "    </tr>\n",
       "  </thead>\n",
       "  <tbody>\n",
       "    <tr>\n",
       "      <th>0</th>\n",
       "      <td><a href=\"https://d-nb.info/gnd/1273284453\" target=\"_blank\">1273284453</a></td>\n",
       "      <td><b>Stempel (Universitätsbibliothek Jena), 04</b></td>\n",
       "      <td><a href=\"https://provenienz.gbv.de/Datei:Universitaetsbibliothek_Jena_Stempel_DE-27_8Hist.un.VI,77~10.jpg\" target=\"_blank\">URI des Merkmals</a></td>\n",
       "      <td><img src=\"static/Universitaetsbibliothek_Jena_Stempel_DE-27_8Hist.un.VI,77~10.jpg\" width=\"250\"/></td>\n",
       "    </tr>\n",
       "  </tbody>\n",
       "</table>"
      ],
      "text/plain": [
       "<IPython.core.display.HTML object>"
      ]
     },
     "metadata": {},
     "output_type": "display_data"
    }
   ],
   "source": [
    "#search_type = \"Suche\"\n",
    "#searchterm = \"leipzig stempel\"\n",
    "#response_size = \"10\"\n",
    "\n",
    "gnd_ids = []\n",
    "gnd_labels = []\n",
    "\n",
    "if search_type.value == \"Suche\":\n",
    "    url = \"https://lobid.org/gnd/search?q=\" + searchterm.value + \"&filter=type:ProvenanceCharacteristic&format=json&size=\" + str(response_size.value)\n",
    "    response = requests.get(url)\n",
    "    json_data = response.json()\n",
    "    for item in json_data['member']:\n",
    "        gnd_ids.append(item['gndIdentifier'])\n",
    "        gnd_labels.append(item['preferredName'])\n",
    "\n",
    "if search_type.value == \"ID-Liste\":\n",
    "    gnd_ids = searchterm.value.replace(' ','').split(',')\n",
    "    lobidsearch = ', '.join(['\"{0}\"'.format(x) for x in gnd_ids])\n",
    "    url = 'https://lobid.org/gnd/reconcile/'\n",
    "    data = {'extend':'{\"ids\":[' + lobidsearch + '],\"properties\":[{\"id\":\"preferredName\"}]}'}\n",
    "    response = requests.post(url, data=data)\n",
    "    response = response.json()\n",
    "    str_list = [entry['str'] for row in response['rows'].values() for entry in row['preferredName']]\n",
    "    gnd_labels = str_list        \n",
    "\n",
    "df = pd.DataFrame({'gnd_id': gnd_ids, 'gnd_label': gnd_labels})\n",
    "\n",
    "def check_url(item):\n",
    "    gbv_found = False\n",
    "    try:\n",
    "        #url = 'http://d-nb.info/gnd/' + item + '/about/marcxml'\n",
    "        url = 'https://sru.bsz-bw.de/ognd!rec=2?version=1.1&query=pica.gnd+%3D+' + item + '&recordSchema=marcxmlk10os&version=1.1&maximumRecords=1'\n",
    "        response = requests.get(url)\n",
    "\n",
    "        xml_string = response.content\n",
    "        root = ET.fromstring(xml_string)\n",
    "\n",
    "        for datafield in root.findall(\".//{http://www.loc.gov/MARC21/slim}datafield[@tag='670']\"):\n",
    "            subfield = datafield.find(\".//{http://www.loc.gov/MARC21/slim}subfield[@code='u']\")\n",
    "            if subfield is not None:\n",
    "                # get the text content of the subfield element\n",
    "                link = subfield.text\n",
    "                # check if the link contains the target string\n",
    "                if \"provenienz.gbv.de\" in link:\n",
    "                    link = re.sub('images\\/.*\\/', 'Datei:', link)\n",
    "                    gbv_found = True\n",
    "                    return(link)\n",
    "        if gbv_found == False:\n",
    "            for datafield in root.findall(\".//{http://www.loc.gov/MARC21/slim}datafield[@tag='670']\"):\n",
    "                subfield = datafield.find(\".//{http://www.loc.gov/MARC21/slim}subfield[@code='u']\")\n",
    "                if subfield is not None:\n",
    "                    # get the text content of the subfield element\n",
    "                    link = subfield.text\n",
    "                    # check if the link contains the target string\n",
    "                    if \"www.deutschefotothek.de\" in link:\n",
    "                        return(link)        \n",
    "    except Exception as e:\n",
    "        return None\n",
    "\n",
    "df['gbv'] = df['gnd_id'].apply(check_url)\n",
    "\n",
    "def download_and_resize_image(link):\n",
    "    if link != None:   \n",
    "        if \"provenienz.gbv.de\" in link:\n",
    "            filepath = \"static/\" + link.replace('https://provenienz.gbv.de/Datei:','').replace('http://provenienz.gbv.de/Datei:','')\n",
    "            filepath = urllib.parse.unquote(filepath)\n",
    "            if filepath not in filelist:\n",
    "                image_url = link.replace('https://provenienz.gbv.de/','https://provenienz.gbv.de/Special:FilePath/').replace('http://provenienz.gbv.de/','https://provenienz.gbv.de/Special:FilePath/')\n",
    "                response = requests.get(image_url)\n",
    "                try:\n",
    "                    image = Image.open(BytesIO(response.content))\n",
    "                    width, height = image.size\n",
    "                    if width > height:\n",
    "                        new_width = 300\n",
    "                        new_height = int(height * (new_width / width))\n",
    "                    else:\n",
    "                        new_height = 300\n",
    "                        new_width = int(width * (new_height / height))\n",
    "                    resized_image = image.resize((new_width, new_height))\n",
    "                    resized_image.save(filepath)\n",
    "                    filelist.append(filepath)\n",
    "                except:\n",
    "                    filepath = \"none\"\n",
    "            return filepath\n",
    "\n",
    "        if \"deutschefotothek.de\" in link:\n",
    "            try:\n",
    "                response = requests.get(link)\n",
    "                html_content = response.content\n",
    "                soup = BeautifulSoup(html_content, 'html.parser')\n",
    "                div_tag = soup.find('div', class_='listItemThumbnail')\n",
    "                img_tag = div_tag.find('img')\n",
    "                download_link = img_tag['src']\n",
    "                #download_link = soup.find('a', {'class': 'download'})\n",
    "                #download_link = download_link['href']\n",
    "                filepath = \"static/\" + download_link.split(\"/\")[-1]\n",
    "                if filepath not in filelist:\n",
    "                    image_url = download_link\n",
    "                    response = requests.get(image_url)\n",
    "                    try:\n",
    "                        image = Image.open(BytesIO(response.content))\n",
    "\n",
    "                        width, height = image.size\n",
    "                        if width > height:\n",
    "                            new_width = 300\n",
    "                            new_height = int(height * (new_width / width))\n",
    "                        else:\n",
    "                            new_height = 300\n",
    "                            new_width = int(width * (new_height / height))\n",
    "                        resized_image = image.resize((new_width, new_height))\n",
    "                        resized_image.save(filepath)\n",
    "                        filelist.append(filepath)\n",
    "                    except:\n",
    "                        filepath = \"none\"\n",
    "                return filepath\n",
    "\n",
    "            except Exception as e:\n",
    "                return None\n",
    "\n",
    "df['thumbnails'] = df['gbv'].apply(download_and_resize_image)\n",
    "\n",
    "df['thumb'] = df['gbv'].replace('https\\:\\/\\/provenienz\\.gbv\\.de\\/','https://provenienz.gbv.de/Special:FilePath/', regex=True).replace('http\\:\\/\\/provenienz\\.gbv\\.de\\/','https://provenienz.gbv.de/Special:FilePath/', regex=True)\n",
    "\n",
    "def format_link(value):\n",
    "    url = f\"https://d-nb.info/gnd/{value}\"\n",
    "    return f'<a href=\"{url}\" target=\"_blank\">{value}</a>'\n",
    "\n",
    "df['gnd_id'] = df['gnd_id'].apply(format_link)\n",
    "\n",
    "def format_link(value):\n",
    "    return f'<a href=\"{value}\" target=\"_blank\">URI des Merkmals</a>'\n",
    "\n",
    "df['gbv'] = df['gbv'].apply(format_link)\n",
    "\n",
    "def bold_formatter(value):\n",
    "    return f'<b>{value}</b>'\n",
    "\n",
    "if not df.empty:\n",
    "    df = df.rename(columns={'gbv': 'image_source'})\n",
    "    df['thumbnails'].fillna(\"error.svg\",inplace=True)\n",
    "    df['thumbnails'] = df['thumbnails'].apply(lambda x: x.replace(\"Provenienzsuche/\",\"\")).apply(lambda x: x.replace(\"none\",\"error.svg\"))\n",
    "    df['thumbnails'] = df['thumbnails'].apply(lambda x: f'<img src=\"{x}\" width=\"250\"/>')\n",
    "    df['gnd_label'] = df['gnd_label'].str.wrap(50) \n",
    "    html = df[['gnd_id', 'gnd_label', 'image_source', 'thumbnails']].to_html(formatters={'gnd_label': bold_formatter}, render_links=True, escape=False).replace(\"\\\\n\", \"<br>\")\n",
    "    display(HTML(html))\n",
    "else:\n",
    "    print(\"No results found for search term:\", searchterm.value)\n",
    "\n",
    "df.apply(lambda x: errorlist.append(x[\"gnd_id\"] + \" | \" + x[\"image_source\"]) if \"error.svg\" in x[\"thumbnails\"] else None, axis=1)\n",
    "\n",
    "errorlist = list(set(errorlist))\n",
    "\n",
    "with open('filelist.json', 'w') as f:\n",
    "    json.dump(filelist, f)\n",
    "\n",
    "with open('errorlist.json', 'w') as f:\n",
    "    json.dump(errorlist, f)\n"
   ]
  },
  {
   "cell_type": "code",
   "execution_count": null,
   "metadata": {
    "jupyter": {
     "source_hidden": true
    }
   },
   "outputs": [],
   "source": []
  }
 ],
 "metadata": {
  "kernelspec": {
   "display_name": "Python 3",
   "language": "python",
   "name": "python3"
  },
  "language_info": {
   "codemirror_mode": {
    "name": "ipython",
    "version": 3
   },
   "file_extension": ".py",
   "mimetype": "text/x-python",
   "name": "python",
   "nbconvert_exporter": "python",
   "pygments_lexer": "ipython3",
   "version": "3.7.6"
  }
 },
 "nbformat": 4,
 "nbformat_minor": 4
}
