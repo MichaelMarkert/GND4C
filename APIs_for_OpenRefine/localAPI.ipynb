{
 "cells": [
  {
   "cell_type": "markdown",
   "id": "0336b7e1-cc04-4136-8f12-6348e0b31adf",
   "metadata": {},
   "source": [
    "# Local APIs for use with OpenRefine\n",
    "The APIs are Jupyter cells with one API/URL per cell and an accompanying cell for response formatting. For general use of Jupyter Kernelgateway see https://jupyter-kernel-gateway.readthedocs.io/en/latest/getting-started.html.<br>\n",
    "The APIs of one notebook are available until restart or the process is stopped with `kill`.  <br>\n",
    "Replace the `KernelGatewayApp.seed_uri` with your notebook path. The port can be changed if necessary.<br>\n",
    "Tested with Jupyterlab 3.6.3, Python 3.9.13.\n",
    "\n",
    "**libraries used:**\n",
    "- jupyter_kernel_gateway\n",
    "- geopy (to demonstrate that other webservices can be used within such an API notebook – here OpenStreetMap Nominatim)\n",
    "\n",
    "**starting kernelgateway from Terminal**\n",
    "- `jupyter kernelgateway --KernelGatewayApp.api=kernel_gateway.notebook_http --KernelGatewayApp.seed_uri=/Users/admin/Documents/Jupyter/localAPI.ipynb --port=10100`\n",
    "\n",
    "**killing kernelgateway from Terminal**\n",
    "- `lsof -i :10100` to find the process PID (look for \"pythonX.X XXXXX\") \n",
    "- `kill [PID]`"
   ]
  },
  {
   "cell_type": "markdown",
   "id": "0a8e73a3-2ffb-4fad-aa3a-89fea1276f0e",
   "metadata": {
    "tags": []
   },
   "source": [
    "## dec2gms service\n",
    "run from OpenRefine with something like <br>`\"http://127.0.0.1:10100/dec2gms?lat=\" + cells['lat'].value + \"&lon=\" + value`<br> in column lon if there is a column lon and a column lat or adust column names. Output is encoded in UTF-8.\n",
    "Test with http://127.0.0.1:10100/dec2gms?lat=50.928780&lon=11.589900"
   ]
  },
  {
   "cell_type": "code",
   "execution_count": null,
   "id": "1fb84752-ea97-4573-b042-bfe2b49c5639",
   "metadata": {
    "jupyter": {
     "source_hidden": true
    },
    "tags": []
   },
   "outputs": [],
   "source": [
    "# GET /dec2gms\n",
    "\n",
    "import json\n",
    "\n",
    "req = json.loads(REQUEST)\n",
    "\n",
    "try:\n",
    "\n",
    "    latitude = float(req['args']['lat'][0])\n",
    "    longitude = float(req['args']['lon'][0])  \n",
    "except:\n",
    "    print(\"No coordinates provided.\")\n",
    "\n",
    "#latitude = 50.928780\n",
    "#longitude = 11.589900\n",
    "\n",
    "def decimallon_to_dms(decimal):\n",
    "    degrees = abs(int(decimal))\n",
    "    minutes_decimal = (abs(decimal) - degrees) * 60\n",
    "    minutes = int(minutes_decimal)\n",
    "    seconds = (minutes_decimal - minutes) * 60\n",
    "\n",
    "    direction = \"E\" if decimal >= 0 else \"W\"\n",
    "    \n",
    "    dms = f\"{direction} {degrees:03d}°{minutes:02d}'{seconds:.2f}''\"\n",
    "    return dms\n",
    "    \n",
    "def decimallat_to_dms(decimal):\n",
    "    degrees = abs(int(decimal))\n",
    "    minutes_decimal = (abs(decimal) - degrees) * 60\n",
    "    minutes = int(minutes_decimal)\n",
    "    seconds = (minutes_decimal - minutes) * 60\n",
    "\n",
    "    direction = \"N\" if decimal >= 0 else \"S\"\n",
    "\n",
    "    dms = f\"{direction} {degrees:03d}°{minutes:02d}'{seconds:.2f}''\"\n",
    "    return dms\n",
    "\n",
    "# Example usage\n",
    "\n",
    "latitude_dms = decimallat_to_dms(latitude)\n",
    "longitude_dms = decimallon_to_dms(longitude)\n",
    "\n",
    "formatted_coordinates = f\"{longitude_dms} / {latitude_dms}\"\n",
    "\n",
    "result = formatted_coordinates\n",
    "\n",
    "print(result)"
   ]
  },
  {
   "cell_type": "code",
   "execution_count": null,
   "id": "e70acdf8-457b-4b91-8ae8-fbf83951419c",
   "metadata": {
    "jupyter": {
     "source_hidden": true
    },
    "tags": []
   },
   "outputs": [],
   "source": [
    "# ResponseInfo GET /dec2gms\n",
    "print(json.dumps({\n",
    "\"headers\" : {\n",
    "    \"Content-Type\": \"text/plain; charset=utf-8\"\n",
    "    },\n",
    "    \"status\" : 201\n",
    "}))"
   ]
  },
  {
   "cell_type": "markdown",
   "id": "967067df-1747-4bbd-bf53-ee5f28cc88be",
   "metadata": {
    "tags": []
   },
   "source": [
    "## gms2dec service\n",
    "run from OpenRefine with <br>`\"http://127.0.0.1:10100/gms2dec?lat=\" + cells['lat'].value + \"&lon=\" + value`<br> in column lon if there is a column lon and a column lat, else adjust column names. Output is encoded in UTF-8.\n",
    "Test with http://127.0.0.1:10100/gms2dec?lat=50°56'5.824\\\"N&lon=10°59'24.112\\\"E"
   ]
  },
  {
   "cell_type": "code",
   "execution_count": null,
   "id": "a7c4f644-c0cf-485b-a9bf-0817fb3e954a",
   "metadata": {
    "jupyter": {
     "source_hidden": true
    },
    "tags": []
   },
   "outputs": [],
   "source": [
    "# GET /gms2dec\n",
    "\n",
    "from geopy.geocoders import Nominatim\n",
    "import json\n",
    "\n",
    "req = json.loads(REQUEST)\n",
    "\n",
    "try:\n",
    "    gms_latitude = req['args']['lat'][0]\n",
    "    gms_longitude = req['args']['lon'][0]\n",
    "\n",
    "except:\n",
    "    print(\"No coordinates provided.\")  \n",
    "\n",
    "def convert_gms_to_decimal(gms_latitude, gms_longitude):\n",
    "    geolocator = Nominatim(user_agent=\"name@server.com\") #change user agent to your email address\n",
    "    location = geolocator.geocode(f\"{gms_latitude}, {gms_longitude}\") \n",
    "    return location.latitude, location.longitude  \n",
    "\n",
    "gms_latitude = gms_latitude.replace(\"\\\\\", \"\")\n",
    "gms_longitude = gms_longitude.replace(\"\\\\\", \"\")\n",
    "\n",
    "\n",
    "decimal_latitude, decimal_longitude = convert_gms_to_decimal(gms_latitude, gms_longitude)\n",
    "\n",
    "print(f\"{decimal_latitude} / {decimal_longitude}\")\n"
   ]
  },
  {
   "cell_type": "code",
   "execution_count": null,
   "id": "f232129d-c222-403d-9f7f-f7c515b3897f",
   "metadata": {
    "jupyter": {
     "source_hidden": true
    },
    "tags": []
   },
   "outputs": [],
   "source": [
    "# ResponseInfo GET /gms2dec\n",
    "print(json.dumps({\n",
    "\"headers\" : {\n",
    "    \"Content-Type\": \"text/plain; charset=utf-8\"\n",
    "    },\n",
    "    \"status\" : 201\n",
    "}))"
   ]
  }
 ],
 "metadata": {
  "kernelspec": {
   "display_name": "api",
   "language": "python",
   "name": "api"
  },
  "language_info": {
   "codemirror_mode": {
    "name": "ipython",
    "version": 3
   },
   "file_extension": ".py",
   "mimetype": "text/x-python",
   "name": "python",
   "nbconvert_exporter": "python",
   "pygments_lexer": "ipython3",
   "version": "3.9.13"
  }
 },
 "nbformat": 4,
 "nbformat_minor": 5
}
