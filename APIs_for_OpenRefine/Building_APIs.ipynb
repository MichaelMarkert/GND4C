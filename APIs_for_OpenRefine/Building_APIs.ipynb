{
 "cells": [
  {
   "cell_type": "markdown",
   "id": "428d7cf9-0421-48a3-ba77-01a0e96ebcb8",
   "metadata": {},
   "source": [
    "# Building-related local APIs for use with OpenRefine and similar software\n",
    "The APIs are described in Jupyter cells with one API/URL per cell using Jupyter Kernelgateway, see https://jupyter-kernel-gateway.readthedocs.io/en/latest/getting-started.html.<br>\n",
    "Tested with Jupyterlab 3.6.3, Python 3.9.13\n",
    "The APIs of one notebook are available until the process is stopped with `kill`. The port can be changed if necessary. Replace the `KernelGatewayApp.seed_uri` with your notebook path.\n",
    "\n",
    "Nominatim OSM APIs usage policy requires a user-agent for queries and a delay of at least 1 second between every query. If you use a custom Nominatim service, uncomment all `sleep(1)`\n",
    "\n",
    "**libraries used:**\n",
    "- requests\n",
    "- geopy\n",
    "- jupyter_kernel_gateway\n",
    "- haversine\n",
    "- pandas\n",
    "\n",
    "**running kernelgateway**\n",
    "- `jupyter kernelgateway --KernelGatewayApp.api=kernel_gateway.notebook_http --KernelGatewayApp.seed_uri=/Users/admin/Documents/Jupyter/API/Building_APIs.ipynb --port=10100`\n",
    "\n",
    "**killing kernelgateway**\n",
    "- `lsof -i :10100` to find the process PID (look for \"Python\") \n",
    "- `kill [PID]`\n",
    "\n"
   ]
  },
  {
   "cell_type": "markdown",
   "id": "47aa6899-b366-441e-8872-937a8c8d86ce",
   "metadata": {
    "tags": []
   },
   "source": [
    "## dec2gms service\n",
    "run from OpenRefine with <br>`\"http://127.0.0.1:10100/dec2gms?lat=\" + cells['lat'].value + \"&lon=\" + value`<br> in column lon if there is a column lon and a column lat. Output is encoded in UTF-8.\n",
    "Test with http://127.0.0.1:10100/dec2gms?lat=50.928780&lon=11.589900, check in https://d-nb.info/gnd/4028557-1"
   ]
  },
  {
   "cell_type": "code",
   "execution_count": null,
   "id": "5ee3e377-42f3-4a8b-8e61-c86a454af8a9",
   "metadata": {
    "jupyter": {
     "source_hidden": true
    },
    "tags": []
   },
   "outputs": [],
   "source": [
    "# GET /dec2gms\n",
    "\n",
    "from geopy.geocoders import Nominatim\n",
    "from geopy.point import Point\n",
    "import json\n",
    "\n",
    "#req = json.loads(REQUEST)\n",
    "\n",
    "try:\n",
    "    latitude = float(req['args']['lat'][0])\n",
    "    longitude = float(req['args']['lon'][0])  \n",
    "except:\n",
    "    print(\"No coordinates provided.\")\n",
    "\n",
    "latitude = 50.928780\n",
    "longitude = 11.589900\n",
    "\n",
    "def decimallon_to_dms(decimal):\n",
    "    degrees = abs(int(decimal))\n",
    "    minutes_decimal = (abs(decimal) - degrees) * 60\n",
    "    minutes = int(minutes_decimal)\n",
    "    seconds = (minutes_decimal - minutes) * 60\n",
    "\n",
    "    direction = \"E\" if decimal >= 0 else \"W\"\n",
    "    \n",
    "    dms = f\"{direction} {degrees:03d}°{minutes:02d}'{seconds:.2f}''\"\n",
    "    return dms\n",
    "    \n",
    "def decimallat_to_dms(decimal):\n",
    "    degrees = abs(int(decimal))\n",
    "    minutes_decimal = (abs(decimal) - degrees) * 60\n",
    "    minutes = int(minutes_decimal)\n",
    "    seconds = (minutes_decimal - minutes) * 60\n",
    "\n",
    "    direction = \"N\" if decimal >= 0 else \"S\"\n",
    "\n",
    "    dms = f\"{direction} {degrees:03d}°{minutes:02d}'{seconds:.2f}''\"\n",
    "    return dms\n",
    "\n",
    "# Example usage\n",
    "\n",
    "latitude_dms = decimallat_to_dms(latitude)\n",
    "longitude_dms = decimallon_to_dms(longitude)\n",
    "\n",
    "formatted_coordinates = f\"{longitude_dms} / {latitude_dms}\"\n",
    "\n",
    "result = formatted_coordinates\n",
    "\n",
    "print(result)"
   ]
  },
  {
   "cell_type": "code",
   "execution_count": null,
   "id": "cd27c83d-e443-4de0-91ba-6c9ebb74f59a",
   "metadata": {
    "jupyter": {
     "source_hidden": true
    },
    "tags": []
   },
   "outputs": [],
   "source": [
    "# ResponseInfo GET /dec2gms\n",
    "print(json.dumps({\n",
    "\"headers\" : {\n",
    "    \"Content-Type\": \"text/plain; charset=utf-8\"\n",
    "    },\n",
    "    \"status\" : 201\n",
    "}))"
   ]
  },
  {
   "cell_type": "markdown",
   "id": "f7fe0ef6-feeb-4120-a8d8-5292d3064ab6",
   "metadata": {
    "tags": []
   },
   "source": [
    "## gms2dec service\n",
    "run from OpenRefine with <br>`\"http://127.0.0.1:10100/gms2dec?lat=\" + cells['lat'].value + \"&lon=\" + value`<br> in column lon if there is a column lon and a column lat. Output is encoded in UTF-8.\n",
    "Test with http://127.0.0.1:10100/gms2dec?lat=50°56'5.824\\\"N&lon=10°59'24.112\\\"E, check in https://d-nb.info/gnd/4028557-1"
   ]
  },
  {
   "cell_type": "code",
   "execution_count": null,
   "id": "64ddde08-eb81-4740-b425-91ac6caad80c",
   "metadata": {
    "jupyter": {
     "source_hidden": true
    },
    "tags": []
   },
   "outputs": [],
   "source": [
    "# GET /gms2dec\n",
    "\n",
    "from geopy.geocoders import Nominatim\n",
    "import json\n",
    "\n",
    "req = json.loads(REQUEST)\n",
    "\n",
    "try:\n",
    "    gms_latitude = req['args']['lat'][0]\n",
    "    gms_longitude = req['args']['lon'][0]\n",
    "\n",
    "except:\n",
    "    print(\"No coordinates provided.\")  \n",
    "\n",
    "def convert_gms_to_decimal(gms_latitude, gms_longitude):\n",
    "    geolocator = Nominatim(user_agent=\"my-app\")  # Initialize the geolocator\n",
    "    location = geolocator.geocode(f\"{gms_latitude}, {gms_longitude}\")  # Geocode the GMS coordinates\n",
    "    return location.latitude, location.longitude  # Return the decimal coordinates\n",
    "\n",
    "gms_latitude = gms_latitude.replace(\"\\\\\", \"\")\n",
    "gms_longitude = gms_longitude.replace(\"\\\\\", \"\")\n",
    "# Example usage\n",
    "#gms_latitude = \"50°56'5.824\\\"N\" \n",
    "#gms_longitude = \"10°59'24.112\\\"E\"\n",
    "#print(gms_latitude)\n",
    "\n",
    "decimal_latitude, decimal_longitude = convert_gms_to_decimal(gms_latitude, gms_longitude)\n",
    "\n",
    "print(f\"{decimal_latitude} / {decimal_longitude}\")\n"
   ]
  },
  {
   "cell_type": "code",
   "execution_count": null,
   "id": "3d131c47-907a-4a82-a24c-988d67dd7e96",
   "metadata": {
    "jupyter": {
     "source_hidden": true
    },
    "tags": []
   },
   "outputs": [],
   "source": [
    "# ResponseInfo GET /gms2dec\n",
    "print(json.dumps({\n",
    "\"headers\" : {\n",
    "    \"Content-Type\": \"text/plain; charset=utf-8\"\n",
    "    },\n",
    "    \"status\" : 201\n",
    "}))"
   ]
  },
  {
   "cell_type": "markdown",
   "id": "b711b55c-2062-4644-88fe-b86a0fb95386",
   "metadata": {
    "tags": []
   },
   "source": [
    "## distance between 2 points service\n",
    "run from OpenRefine with <br>`\"http://127.0.0.1:10100/distbetween2?set1=\" + cells['set1'].value + \"&set2=\" + value`<br> in column set2 if there are two columns with point coordinates to compare formatted as ```latxlon```. Output is encoded in UTF-8, unit is km.\n",
    "Test with http://127.0.0.1:10100/distbetween2?set1=50.928780x11.589900&set2=50.9286x11.589463, check in https://d-nb.info/gnd/4028557-1"
   ]
  },
  {
   "cell_type": "code",
   "execution_count": null,
   "id": "faa9a556-aa6a-4737-8322-89ae5969f805",
   "metadata": {
    "jupyter": {
     "source_hidden": true
    },
    "tags": []
   },
   "outputs": [],
   "source": [
    "# GET /distbetween2\n",
    "\n",
    "import json\n",
    "import math\n",
    "from haversine import haversine, Unit\n",
    "\n",
    "req = json.loads(REQUEST)\n",
    "\n",
    "try:\n",
    "    set1 = req['args']['set1'][0]\n",
    "    set2 = req['args']['set2'][0]\n",
    "except:\n",
    "    print(\"No coordinates provided.\")\n",
    "\n",
    "#set1 = '50.92x11.589900'\n",
    "#set2 = '50.928785x11.5898'\n",
    "\n",
    "lat1 = float(set1.split('x')[0])\n",
    "lon1 = float(set1.split('x')[1])\n",
    "set1 = (lat1, lon1)\n",
    "lat2 = float(set2.split('x')[0])\n",
    "lon2 = float(set2.split('x')[1])\n",
    "set2 = (lat2, lon2)\n",
    "\n",
    "distance = round(haversine(set1, set2, unit='km'), 2)\n",
    "\n",
    "print(distance)"
   ]
  },
  {
   "cell_type": "code",
   "execution_count": null,
   "id": "55ddb23e-cbdd-47a8-a8bb-b884485306ec",
   "metadata": {
    "jupyter": {
     "source_hidden": true
    },
    "tags": []
   },
   "outputs": [],
   "source": [
    "# ResponseInfo GET /distbetween2\n",
    "print(json.dumps({\n",
    "\"headers\" : {\n",
    "    \"Content-Type\": \"text/plain; charset=utf-8\"\n",
    "    },\n",
    "    \"status\" : 201\n",
    "}))"
   ]
  },
  {
   "cell_type": "markdown",
   "id": "df01e969-961f-40d4-a70b-5df6deae95e5",
   "metadata": {
    "tags": []
   },
   "source": [
    "## Get Redaktionslevel of an entity or its PPN from its GND-ID via OGND-SRU\n",
    "Run from OpenRefine with <br>`\"http://127.0.0.1:10100/gndid?level=\" + cells['gndid'].value`<br> in column gndid or similar for Redaktionslevel and with <br>`\"http://127.0.0.1:10100/gndid?ppn=\" + cells['gndid'].value`<br> for PPN. Output is encoded in UTF-8.\n",
    "Test with http://127.0.0.1:10100/gndid?level=5053491-9 and http://127.0.0.1:10100/gndid?ppn=5053491-9."
   ]
  },
  {
   "cell_type": "code",
   "execution_count": null,
   "id": "f65c89d3-1f21-42e8-a771-bd940a9d7578",
   "metadata": {
    "jupyter": {
     "source_hidden": true
    },
    "tags": []
   },
   "outputs": [],
   "source": [
    "# GET /gndid\n",
    "\n",
    "import requests\n",
    "import xml.etree.ElementTree as ET\n",
    "import re\n",
    "import time\n",
    "import json\n",
    "\n",
    "value = \"\"\n",
    "req_type = 0\n",
    "\n",
    "req = json.loads(REQUEST)\n",
    "\n",
    "try: \n",
    "    try:\n",
    "        if str(req['args']['level'][0]) is not \"\":\n",
    "            value = str(req['args']['level'][0]) \n",
    "            req_type = 1\n",
    "    except:\n",
    "        if str(req['args']['ppn'][0]) is not \"\":\n",
    "            value = str(req['args']['ppn'][0])\n",
    "            req_type = 2\n",
    "except:\n",
    "    print(\"no gnd-ID for provided\")\n",
    "    \n",
    "if value is \"\":\n",
    "    print(\"no value\")\n",
    "\n",
    "#value = \"1302315005\"    \n",
    "\n",
    "url = 'https://sru.bsz-bw.de/ognd!rec=2?version=1.1&query=pica.nid+%3D' + value + '&recordSchema=picaxml&version=1.1&maximumRecords=1'\n",
    "\n",
    "response = requests.get(url)\n",
    "xml_content = response.text\n",
    "\n",
    "#extract value using just string search and replace\n",
    "#ppn = re.search(r'<controlfield tag=\"001\">\\d*<\\/controlfield>',xml_content)\n",
    "#ppn = (ppn.group().replace('<controlfield tag=\\\"001\\\">','').replace('</controlfield>',''))\n",
    "#return ppn\n",
    "\n",
    "root = ET.fromstring(xml_content)\n",
    "\n",
    "#for marcxmlk10os records (field 042 (Redaktionslevel) missing)\n",
    "#namespace = {'zs': 'http://www.loc.gov/zing/srw/', 'pica': 'http://www.loc.gov/MARC21/slim'}\n",
    "#record_element = root.find(\".//marc:record\", namespace)\n",
    "#controlfield_element = root.find(\".//marc:controlfield[@tag='001']\", namespace)\n",
    "#value = controlfield_element.text\n",
    "\n",
    "#for picaxml records\n",
    "namespace = {'pica': 'info:srw/schema/5/picaXML-v1.0'}\n",
    "\n",
    "if req_type == 1:\n",
    "    datafield_element = root.find(\".//pica:datafield[@tag='002@']\", namespace)\n",
    "    value = datafield_element.find(\"./pica:subfield[@code='0']\", namespace).text\n",
    "\n",
    "if req_type == 2:\n",
    "    datafield_element = root.find(\".//pica:datafield[@tag='003@']\", namespace)\n",
    "    value = datafield_element.find(\"./pica:subfield[@code='0']\", namespace).text\n",
    "print(value)\n",
    "\n",
    "#in case rows in openrefine are skipped try\n",
    "#time.sleep(0.5)"
   ]
  },
  {
   "cell_type": "code",
   "execution_count": null,
   "id": "aa87424d-e53c-43b7-8a5d-61052e1d1d54",
   "metadata": {
    "jupyter": {
     "source_hidden": true
    },
    "tags": []
   },
   "outputs": [],
   "source": [
    "# ResponseInfo GET /gndid\n",
    "print(json.dumps({\n",
    "\"headers\" : {\n",
    "    \"Content-Type\": \"text/plain; charset=utf-8\"\n",
    "    },\n",
    "    \"status\" : 201\n",
    "}))"
   ]
  },
  {
   "cell_type": "markdown",
   "id": "e9c08425-1b51-44ea-82f9-154c787a5bdd",
   "metadata": {
    "tags": []
   },
   "source": [
    "## Find out if subject term is part of subject category 31.3 based on GND-IDs provided\n",
    "Run from OpenRefine with <br>`\"http://127.0.0.1:10100/ifisarchitecture?gnd_id=\" + value`<br> in column subjectterm_gndid or similar. Output is encoded in UTF-8.\n",
    "Test with http://127.0.0.1:10100/ifisarchitecture?gnd_id=4073436-5."
   ]
  },
  {
   "cell_type": "code",
   "execution_count": null,
   "id": "c03ca177-5313-42a4-8105-e3452108ead1",
   "metadata": {
    "jupyter": {
     "source_hidden": true
    },
    "tags": []
   },
   "outputs": [],
   "source": [
    "# GET /ifisarchitecture\n",
    "\n",
    "import requests\n",
    "import json\n",
    "\n",
    "req = json.loads(REQUEST)\n",
    "\n",
    "try:\n",
    "    gnd_id= req['args']['gnd_id'][0]\n",
    "except:\n",
    "    print(\"No GND-ID provided.\")  \n",
    "    \n",
    "#gnd_id = '4073436-5'\n",
    "\n",
    "url = 'http://lobid.org/gnd/' + gnd_id + '.json'\n",
    "response = requests.get(url)\n",
    "\n",
    "gnd_data = json.loads(response.text)\n",
    "\n",
    "for cat in gnd_data['gndSubjectCategory']:\n",
    "    if '31.3' in cat['id']:\n",
    "        print('isArchitecture')"
   ]
  },
  {
   "cell_type": "code",
   "execution_count": null,
   "id": "3260c508-402a-4fe9-8216-2158196c4f09",
   "metadata": {
    "jupyter": {
     "source_hidden": true
    },
    "tags": []
   },
   "outputs": [],
   "source": [
    "# ResponseInfo GET /ifisarchitecture\n",
    "print(json.dumps({\n",
    "\"headers\" : {\n",
    "    \"Content-Type\": \"text/plain; charset=utf-8\"\n",
    "    },\n",
    "    \"status\" : 201\n",
    "}))"
   ]
  },
  {
   "cell_type": "markdown",
   "id": "150a9566-87d0-4b2b-a912-411390f9e057",
   "metadata": {
    "tags": []
   },
   "source": [
    "## Get latest succeeding place according to the GND for the provided GND-ID of a place\n",
    "Run from OpenRefine with <br>`\"http://127.0.0.1:10100/latestplace?gnd_id=\" + value`<br> in column place_gndid or similar. Output is encoded in UTF-8.\n",
    "Test with http://127.0.0.1:10100/latestplace?gnd_id=4322223-7."
   ]
  },
  {
   "cell_type": "code",
   "execution_count": null,
   "id": "766dcdf1-a51c-4d96-afad-bcd7f074451b",
   "metadata": {
    "jupyter": {
     "source_hidden": true
    },
    "tags": []
   },
   "outputs": [],
   "source": [
    "# GET /latestplace\n",
    "\n",
    "import requests\n",
    "import json\n",
    "\n",
    "req = json.loads(REQUEST)\n",
    "\n",
    "try:\n",
    "    gnd_id = req['args']['gnd_id'][0]\n",
    "\n",
    "except:\n",
    "    print(\"No GND-ID provided.\")  \n",
    "    \n",
    "#gnd_id = '4608037-5'\n",
    "\n",
    "notfound = 0\n",
    "\n",
    "def findsucceedingplace(gnd_id):\n",
    "    notfound = 0\n",
    "    while notfound == 0:\n",
    "        url = 'http://lobid.org/gnd/' + gnd_id + '.json'\n",
    "        response = requests.get(url)\n",
    "        gnd_data = json.loads(response.text)\n",
    "        if 'succeedingPlaceOrGeographicName' in gnd_data:\n",
    "            try:\n",
    "                gnd_link = gnd_data['succeedingPlaceOrGeographicName'][0]['id']\n",
    "                gnd_id = gnd_link.replace('https://d-nb.info/gnd/','')\n",
    "                findsucceedingplace(gnd_id)\n",
    "            except:\n",
    "                notfound = 1\n",
    "        else:\n",
    "            notfound = 1\n",
    "            gnd_link = gnd_id\n",
    "    findsucceedingplace.gnd_link = gnd_link\n",
    "\n",
    "findsucceedingplace(gnd_id)  \n",
    "\n",
    "print(findsucceedingplace.gnd_link)"
   ]
  },
  {
   "cell_type": "code",
   "execution_count": null,
   "id": "ebb83d04-b5ac-4e23-a84d-0eaa111d8eb8",
   "metadata": {
    "jupyter": {
     "source_hidden": true
    },
    "tags": []
   },
   "outputs": [],
   "source": [
    "# ResponseInfo GET /latestplace\n",
    "print(json.dumps({\n",
    "\"headers\" : {\n",
    "    \"Content-Type\": \"text/plain; charset=utf-8\"\n",
    "    },\n",
    "    \"status\" : 201\n",
    "}))"
   ]
  },
  {
   "cell_type": "markdown",
   "id": "e1ff8ca1-9348-4fd7-b4de-c2e250a189f6",
   "metadata": {
    "tags": []
   },
   "source": [
    "## Find places and parts of places in the GND for given coordinates\n",
    "Run from OpenRefine with <br>`\"http://127.0.0.1:10100/plcsbldgisin?lat=\" + cells['lat'].value + \"&lon=\" + value`<br> in column lon. Results are separated by \"|\" if there are several matches, each place is provided with its Wikidata- and GND-ID.\n",
    "Test with http://127.0.0.1:10100/plcsbldgisin?lat=52.0578042&lon=13.7219432"
   ]
  },
  {
   "cell_type": "code",
   "execution_count": null,
   "id": "4ef49902-2042-4470-8324-dd295ef3d70e",
   "metadata": {
    "jupyter": {
     "source_hidden": true
    },
    "tags": []
   },
   "outputs": [],
   "source": [
    "# GET /plcsbldgisin\n",
    "\n",
    "import requests\n",
    "import json\n",
    "from time import sleep\n",
    "\n",
    "req = json.loads(REQUEST)\n",
    "\n",
    "headers = {'User-Agent': 'jpytr_bldg_apis'}\n",
    "\n",
    "try:\n",
    "    lat = req['args']['lat'][0]\n",
    "    lon = req['args']['lon'][0]\n",
    "\n",
    "except:\n",
    "    print(\"No coordinates provided.\")  \n",
    "    \n",
    "#lat = '52.0578042'\n",
    "#lon = '13.7219432'\n",
    "\n",
    "url = \"https://nominatim.openstreetmap.org/reverse.php?lat=\" + lat + \"&lon=\" + lon + \"&zoom=18&format=jsonv2\"\n",
    "\n",
    "response = requests.get(url, headers)\n",
    "if response.status_code == 200:\n",
    "    data = response.json()\n",
    "    osm_id = data['osm_id']\n",
    "    osm_type = data['osm_type'].replace('way','W').replace('node','N').replace('relation','R')\n",
    "\n",
    "sleep(1)\n",
    "url = \"https://nominatim.openstreetmap.org/details.php?osmtype=\" + osm_type + \"&osmid=\" + str(osm_id) + \"&addressdetails=1&hierarchy=0&group_hierarchy=1&format=json\"\n",
    "response = requests.get(url, headers)\n",
    "\n",
    "if response.status_code == 200:\n",
    "    osm_ids = []\n",
    "    osm_types = []\n",
    "    Q_ids = []\n",
    "    GND_ids = []\n",
    "    count = 0\n",
    "    result = \"\"\n",
    "    data = response.json()\n",
    "    for entry in data['address']:\n",
    "        if entry['rank_address'] == 18 or entry['rank_address'] == 16:\n",
    "            osm_ids.append(entry['osm_id'])\n",
    "            osm_types.append(entry['osm_type'])\n",
    "            \n",
    "    for osm_id, osm_type in zip(osm_ids, osm_types):\n",
    "        sleep(1)\n",
    "        url = \"https://nominatim.openstreetmap.org/details.php?osmtype=\" + osm_type + \"&osmid=\" + str(osm_id) + \"&format=json\"\n",
    "        response = requests.get(url, headers)\n",
    "        if response.status_code == 200:\n",
    "            data = response.json()\n",
    "            try:\n",
    "                Q_ids.append(data['extratags']['wikidata'])\n",
    "            except:\n",
    "                Q_ids.append(\"No Wikidata-ID for OSM-object \" + osm_type + \":\" + str(osm_id))\n",
    "\n",
    "    for Q_id in Q_ids:          \n",
    "        url = 'https://www.wikidata.org/w/api.php?action=wbgetentities&ids=' + Q_id + '&format=json&language=en&type=item'\n",
    "        response = requests.get(url)\n",
    "        if response.status_code == 200:\n",
    "            data = json.loads(response.text)\n",
    "            try:\n",
    "                gndIdentifier = data['entities'][Q_id]['claims']['P227'][0]['mainsnak']['datavalue']['value']\n",
    "                GND_ids.append(gndIdentifier)\n",
    "            except:\n",
    "                GND_ids.append(\"noGndIdForThisPlace\")\n",
    "    for Q_id, GND_id in zip(Q_ids, GND_ids):\n",
    "        no = len(Q_ids)\n",
    "        result += f'{Q_id},{GND_id}'\n",
    "        count = count + 1\n",
    "        if count < no:\n",
    "            result += \"|\"\n",
    "        \n",
    "print(result)"
   ]
  },
  {
   "cell_type": "code",
   "execution_count": null,
   "id": "1a307dc6-99c0-4bf4-b5df-d472fcd8d4b7",
   "metadata": {
    "jupyter": {
     "source_hidden": true
    },
    "tags": []
   },
   "outputs": [],
   "source": [
    "# ResponseInfo GET /plcsbldgisin\n",
    "print(json.dumps({\n",
    "\"headers\" : {\n",
    "    \"Content-Type\": \"text/plain; charset=utf-8\"\n",
    "    },\n",
    "    \"status\" : 201\n",
    "}))"
   ]
  },
  {
   "cell_type": "markdown",
   "id": "09d47054-c54f-4acf-b7e5-2ddf0a456cd7",
   "metadata": {
    "tags": []
   },
   "source": [
    "## Find closest building in OSM with and without Wikidata ID for given coordinates or address\n",
    "Run from OpenRefine with <br>`\"http://127.0.0.1:10100/closestbuilding?lat=\" + cells['lat'].value + \"&lon=\" + value + \"&dist=50\"`<br> in column lon or <br>`\"http://127.0.0.1:10100/closestbuilding?address=\" + value + \"&dist=50\"`<br> in a column like address or nameOftheBuilding. Always provide a place name as part of the address. \n",
    "For distance (in meters) choose a small value for dense cities and a large value like `dist=1000` for the countryside. Closest building with its coordinates and closest building with a Wikidata ID are separated by \"|\".\n",
    "Test with http://127.0.0.1:10100/closestbuilding?lat=50.934951&lon=10.990031&dist=50 and http://127.0.0.1:10100/closestbuilding?address=Am%20Planetarium%206%20jena&dist=50"
   ]
  },
  {
   "cell_type": "code",
   "execution_count": null,
   "id": "2b7609fb-523d-474b-a324-4c9973a54061",
   "metadata": {
    "jupyter": {
     "source_hidden": true
    },
    "tags": []
   },
   "outputs": [],
   "source": [
    "# GET /closestbuilding\n",
    "\n",
    "import requests\n",
    "import json\n",
    "from time import sleep\n",
    "from haversine import haversine, Unit\n",
    "import pandas as pd\n",
    "\n",
    "req = json.loads(REQUEST)\n",
    "\n",
    "headers = {'User-Agent': 'jpytr_bldg_apis'}\n",
    "\n",
    "try:\n",
    "    if 'lat' in req['args']:\n",
    "        latitude = req['args']['lat'][0]\n",
    "        longitude = req['args']['lon'][0]\n",
    "    elif 'address' in req['args']:\n",
    "        address = req['args']['address'][0]\n",
    "    else:\n",
    "        print(\"No coordinates or address provided.\")  \n",
    "except:\n",
    "    print(\"No data sent.\")\n",
    "    \n",
    "try:\n",
    "    maxdist = req['args']['dist'][0]\n",
    "except:\n",
    "    maxdist = '25'\n",
    "    \n",
    "#latitude = '52.0578042'\n",
    "#longitude = '13.7219432'\n",
    "\n",
    "try:\n",
    "    url = \"https://nominatim.openstreetmap.org/search?q=\" + address + \"&format=jsonv2\"\n",
    "    response = requests.get(url, headers)\n",
    "    if response.status_code == 200:\n",
    "        data = response.json()\n",
    "        latitude = data[0]['lat']\n",
    "        longitude = data[0]['lon']\n",
    "except:\n",
    "    pass\n",
    "\n",
    "def point_dist(x):\n",
    "    source = (float(latitude), float(longitude))\n",
    "    lat, lon = map(float, x.split(','))\n",
    "    target = (lat, lon)\n",
    "    distance = round(haversine(source, target)*1000)\n",
    "    return distance\n",
    "\n",
    "try:\n",
    "    overpass_url = \"https://overpass-api.de/api/interpreter?data=%5Bout%3Ajson%5D%5Btimeout%3A25%5D%3B%0A%28node%5B%22building%22%5D%28around%3A\" + maxdist + \"%2C\" + latitude + \"%2C\" + longitude + \"%29%3B%0Away%5B%22building%22%5D%28around%3A\" + maxdist + \"%2C\" + latitude + \"%2C\" + longitude + \"%29%3B%0Arelation%5B%22building%22%5D%28around%3A\" + maxdist + \"%2C\" + latitude + \"%2C\" + longitude + \"%29%3B%0A%29%3B%0Aout%20center%3B%0A%3E%3B%0Aout%20skel%20qt%3B\"\n",
    "    response = requests.get(overpass_url)\n",
    "    if response.status_code == 200:\n",
    "        data = response.json()\n",
    "    else:\n",
    "        print(\"Error: Request to Overpass API failed.\")\n",
    "\n",
    "    data['elements'] = [element for element in data['elements'] if 'tags' in element]\n",
    "    #data['elements'] = [element for element in data['elements']]\n",
    "    df = pd.DataFrame(data['elements'])\n",
    "   \n",
    "    df_2 = pd.json_normalize(df['tags'])\n",
    "    \n",
    "    if 'type' in df_2.columns:\n",
    "        df_2 = df_2.drop(['type'], axis=1)\n",
    "    \n",
    "    df = pd.concat([df.drop(['tags'], axis=1), df_2], axis=1)\n",
    "    df = df.fillna(\"\")\n",
    "    \n",
    "    df['center'] = df.apply(lambda x: f\"{x['center']['lat']}, {x['center']['lon']}\" if isinstance(x['center'], dict) and x['center'] else f\"{x['lat']}, {x['lon']}\", axis=1)\n",
    "\n",
    "    #from IPython.core.display import HTML\n",
    "    #display(HTML(df.to_html()))\n",
    "\n",
    "    df['distance'] = df['center'].apply(point_dist)\n",
    "    min_distance_row = df.loc[df['distance'].idxmin()]\n",
    "    closest_type = min_distance_row['type']\n",
    "    closest_id = str(min_distance_row['id'])\n",
    "    closest_center = str(min_distance_row['center'])\n",
    "    \n",
    "    \n",
    "    try:\n",
    "        filtered_df = df[df['wikidata'] != '']\n",
    "        min_distance_row = filtered_df.loc[filtered_df['distance'].idxmin()]\n",
    "        wikidata_value = min_distance_row['wikidata']\n",
    "        closest_type_wikidata = min_distance_row['type']\n",
    "        closest_id_wikidata = str(min_distance_row['id'])\n",
    "                 \n",
    "        url = 'https://www.wikidata.org/w/api.php?action=wbgetentities&ids=' + wikidata_value + '&format=json&language=en&type=item'\n",
    "        response = requests.get(url)\n",
    "        if response.status_code == 200:\n",
    "            data = json.loads(response.text)\n",
    "            try:\n",
    "                gndIdentifier = data['entities'][wikidata_value]['claims']['P227'][0]['mainsnak']['datavalue']['value']\n",
    "            except:\n",
    "                gndIdentifier = \"noGndIdForThisPlace\"\n",
    "\n",
    "    except:\n",
    "        pass\n",
    "            \n",
    "    print1 = closest_type + \",\" + closest_id + \",(\" + closest_center + \")\" + \"|\"\n",
    "    closest_type = None\n",
    "    closest_id = None\n",
    "    try:\n",
    "        print2 = closest_type_wikidata + \",\" + closest_id_wikidata + \",\" + wikidata_value + \",\" + gndIdentifier\n",
    "        closest_type_wikidata = None\n",
    "        closest_id_wikidata = None\n",
    "        wikidata_value = None\n",
    "    except:\n",
    "        print2 = \"No OSM-linked wikidata object in range.\"\n",
    "    print(print1 + print2)\n",
    "\n",
    "except:\n",
    "    print(\"Something went wrong.\")"
   ]
  },
  {
   "cell_type": "code",
   "execution_count": null,
   "id": "e156536b-bb9a-4940-820c-695e5aec4e71",
   "metadata": {
    "jupyter": {
     "source_hidden": true
    },
    "tags": []
   },
   "outputs": [],
   "source": [
    "# ResponseInfo GET /closestbuilding\n",
    "print(json.dumps({\n",
    "\"headers\" : {\n",
    "    \"Content-Type\": \"text/plain; charset=utf-8\"\n",
    "    },\n",
    "    \"status\" : 201\n",
    "}))"
   ]
  }
 ],
 "metadata": {
  "kernelspec": {
   "display_name": "api",
   "language": "python",
   "name": "api"
  },
  "language_info": {
   "codemirror_mode": {
    "name": "ipython",
    "version": 3
   },
   "file_extension": ".py",
   "mimetype": "text/x-python",
   "name": "python",
   "nbconvert_exporter": "python",
   "pygments_lexer": "ipython3",
   "version": "3.9.13"
  }
 },
 "nbformat": 4,
 "nbformat_minor": 5
}
